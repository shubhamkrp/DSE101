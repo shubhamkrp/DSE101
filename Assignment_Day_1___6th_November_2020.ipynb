{
  "nbformat": 4,
  "nbformat_minor": 0,
  "metadata": {
    "colab": {
      "name": "Assignment Day 1 | 6th November 2020.ipynb",
      "provenance": []
    },
    "kernelspec": {
      "name": "python3",
      "display_name": "Python 3"
    }
  },
  "cells": [
    {
      "cell_type": "markdown",
      "metadata": {
        "id": "LM75-8EwUEUa"
      },
      "source": [
        "1. RAINBOW"
      ]
    },
    {
      "cell_type": "markdown",
      "metadata": {
        "id": "iWCB05x-UJvE"
      },
      "source": [
        "2."
      ]
    },
    {
      "cell_type": "code",
      "metadata": {
        "id": "bwcJl01NUIk8",
        "outputId": "a683083a-b237-4f46-ee41-e532df99dab2",
        "colab": {
          "base_uri": "https://localhost:8080/"
        }
      },
      "source": [
        "print(\"LETS UPGRADE\")"
      ],
      "execution_count": 1,
      "outputs": [
        {
          "output_type": "stream",
          "text": [
            "LETS UPGRADE\n"
          ],
          "name": "stdout"
        }
      ]
    },
    {
      "cell_type": "markdown",
      "metadata": {
        "id": "i46EGCgWUXTd"
      },
      "source": [
        "3."
      ]
    },
    {
      "cell_type": "code",
      "metadata": {
        "id": "d4PkQeq7UYPc",
        "outputId": "68629279-bc14-4881-b9c7-50c7f2db6a8e",
        "colab": {
          "base_uri": "https://localhost:8080/"
        }
      },
      "source": [
        "def PL():\n",
        "  cp=int(input())\n",
        "  sp=int(input())\n",
        "  if sp>cp:\n",
        "    print(\"Profit\")\n",
        "  elif sp<cp:\n",
        "    print(\"Loss\")\n",
        "  else:\n",
        "    print(\"Neither\")\n",
        "\n",
        "PL()"
      ],
      "execution_count": 5,
      "outputs": [
        {
          "output_type": "stream",
          "text": [
            "20\n",
            "30\n",
            "Profit\n"
          ],
          "name": "stdout"
        }
      ]
    },
    {
      "cell_type": "markdown",
      "metadata": {
        "id": "ukne-QrRVO_x"
      },
      "source": [
        "4."
      ]
    },
    {
      "cell_type": "code",
      "metadata": {
        "id": "-y6jhE0sVQLC",
        "outputId": "eab35369-4052-4f9e-96b9-ff647cf8f5d1",
        "colab": {
          "base_uri": "https://localhost:8080/"
        }
      },
      "source": [
        "euro=int(input())\n",
        "rupees=euro*80\n",
        "print(rupees)"
      ],
      "execution_count": 6,
      "outputs": [
        {
          "output_type": "stream",
          "text": [
            "20\n",
            "1600\n"
          ],
          "name": "stdout"
        }
      ]
    }
  ]
}