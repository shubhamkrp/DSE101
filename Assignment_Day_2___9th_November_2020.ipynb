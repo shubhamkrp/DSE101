{
  "nbformat": 4,
  "nbformat_minor": 0,
  "metadata": {
    "colab": {
      "name": "Assignment Day 2 | 9th November 2020",
      "provenance": []
    },
    "kernelspec": {
      "name": "python3",
      "display_name": "Python 3"
    }
  },
  "cells": [
    {
      "cell_type": "markdown",
      "metadata": {
        "id": "9z_FbBWQL8vQ"
      },
      "source": [
        "1."
      ]
    },
    {
      "cell_type": "code",
      "metadata": {
        "id": "FuG4mobtL-CJ",
        "outputId": "8580709b-f5d0-4cdc-aa6b-78fcc9239097",
        "colab": {
          "base_uri": "https://localhost:8080/"
        }
      },
      "source": [
        "l=[]\n",
        "line = [int(x) for x in input().split(' ')]\n",
        "for i in line:\n",
        "  if i%2==0:\n",
        "    l.append(i)\n",
        "print(l)"
      ],
      "execution_count": 5,
      "outputs": [
        {
          "output_type": "stream",
          "text": [
            "1 2 3\n",
            "[2]\n"
          ],
          "name": "stdout"
        }
      ]
    },
    {
      "cell_type": "markdown",
      "metadata": {
        "id": "pGQ_V_5_NmHh"
      },
      "source": [
        "2."
      ]
    },
    {
      "cell_type": "code",
      "metadata": {
        "id": "Wle4bilXNm9H",
        "outputId": "75b0cdd5-fbd7-4857-bbea-e83f8f2c2c85",
        "colab": {
          "base_uri": "https://localhost:8080/"
        }
      },
      "source": [
        "#iterating through for loop\n",
        "letters = []\n",
        "for letter in 'human':\n",
        "    letters.append(letter)\n",
        "print(letters)\n",
        "\n",
        "#lambda function\n",
        "lett = list(map(lambda x: x, 'human'))\n",
        "print(lett)\n",
        "\n",
        "#conditional\n",
        "number_list = [ x for x in range(20) if x % 2 == 0]\n",
        "print(number_list)\n",
        "\n",
        "num_list = [y for y in range(100) if y % 2 == 0 if y % 5 == 0]\n",
        "print(num_list)\n",
        "\n",
        "obj = [\"Even\" if i%2==0 else \"Odd\" for i in range(10)]\n",
        "print(obj)\n",
        "\n",
        "#slicing\n",
        "l=[1,6,2,3,5,4,9,7,8]\n",
        "print(l[1:5])\n",
        "print(l[::-1])\n",
        "print(l[2:3])\n",
        "\n",
        "#transpose of matrix\n",
        "matrix = [[1, 2], [3,4], [5,6], [7,8]]\n",
        "transpose = [[row[i] for row in matrix] for i in range(2)]\n",
        "print (transpose)"
      ],
      "execution_count": 6,
      "outputs": [
        {
          "output_type": "stream",
          "text": [
            "['h', 'u', 'm', 'a', 'n']\n",
            "['h', 'u', 'm', 'a', 'n']\n",
            "[0, 2, 4, 6, 8, 10, 12, 14, 16, 18]\n",
            "[0, 10, 20, 30, 40, 50, 60, 70, 80, 90]\n",
            "['Even', 'Odd', 'Even', 'Odd', 'Even', 'Odd', 'Even', 'Odd', 'Even', 'Odd']\n",
            "[6, 2, 3, 5]\n",
            "[8, 7, 9, 4, 5, 3, 2, 6, 1]\n",
            "[2]\n",
            "[[1, 3, 5, 7], [2, 4, 6, 8]]\n"
          ],
          "name": "stdout"
        }
      ]
    },
    {
      "cell_type": "markdown",
      "metadata": {
        "id": "8qxHaSjUiYv4"
      },
      "source": [
        "3."
      ]
    },
    {
      "cell_type": "code",
      "metadata": {
        "id": "4HfMKDu0iZ0P",
        "outputId": "2e3102c3-ad76-4d96-929b-efab1306a74f",
        "colab": {
          "base_uri": "https://localhost:8080/"
        }
      },
      "source": [
        "n=int(input())\n",
        "d={}\n",
        "for i in range(n+1):\n",
        "  d.update({i:i*i})\n",
        "print(d)"
      ],
      "execution_count": 13,
      "outputs": [
        {
          "output_type": "stream",
          "text": [
            "4\n",
            "{0: 0, 1: 1, 2: 4, 3: 9, 4: 16}\n"
          ],
          "name": "stdout"
        }
      ]
    },
    {
      "cell_type": "markdown",
      "metadata": {
        "id": "_MDh_SvDliKu"
      },
      "source": [
        "4."
      ]
    },
    {
      "cell_type": "code",
      "metadata": {
        "id": "n3BcALjYljo6",
        "outputId": "59e7c37a-3a8b-48b7-f7ff-58524c5b5410",
        "colab": {
          "base_uri": "https://localhost:8080/"
        }
      },
      "source": [
        "import math\n",
        "x=0\n",
        "y=0\n",
        "n=int(input())\n",
        "l=[]\n",
        "for i in range(n):\n",
        "  ele=input().split(' ')\n",
        "  l.append(ele)\n",
        "for i in range(n):\n",
        "  if l[i][0]=='UP':\n",
        "    x+=int(l[i][1])\n",
        "  elif l[i][0]=='DOWN':\n",
        "    x-=int(l[i][1])\n",
        "  elif l[i][0]=='RIGHT':\n",
        "    y+=int(l[i][1])\n",
        "  else:\n",
        "    y-=int(l[i][1])\n",
        "\n",
        "dist=math.sqrt((x*x)+(y*y))\n",
        "print(int(round(dist)))"
      ],
      "execution_count": 14,
      "outputs": [
        {
          "output_type": "stream",
          "text": [
            "4\n",
            "UP 5\n",
            "DOWN 3\n",
            "LEFT 3\n",
            "RIGHT 2\n",
            "2\n"
          ],
          "name": "stdout"
        }
      ]
    }
  ]
}