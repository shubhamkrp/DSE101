{
  "nbformat": 4,
  "nbformat_minor": 0,
  "metadata": {
    "colab": {
      "name": "Assignment Day 3 | 11th November 2020.ipynb",
      "provenance": []
    },
    "kernelspec": {
      "name": "python3",
      "display_name": "Python 3"
    }
  },
  "cells": [
    {
      "cell_type": "markdown",
      "metadata": {
        "id": "TNnzTkoodEbm"
      },
      "source": [
        "1."
      ]
    },
    {
      "cell_type": "code",
      "metadata": {
        "id": "MmldxngjdGj6",
        "outputId": "a62c5a83-600a-49a4-a067-9fcf26615f01",
        "colab": {
          "base_uri": "https://localhost:8080/"
        }
      },
      "source": [
        "import numpy as np\n",
        "a=np.arange(2,50,3)\n",
        "print(a)"
      ],
      "execution_count": 3,
      "outputs": [
        {
          "output_type": "stream",
          "text": [
            "[ 2  5  8 11 14 17 20 23 26 29 32 35 38 41 44 47]\n"
          ],
          "name": "stdout"
        }
      ]
    },
    {
      "cell_type": "markdown",
      "metadata": {
        "id": "IkGbtHYRei80"
      },
      "source": [
        "2."
      ]
    },
    {
      "cell_type": "code",
      "metadata": {
        "id": "4D3jWzr_ejwL",
        "outputId": "26f0eb0b-82c3-4f43-ea9c-be0ec55d0ee6",
        "colab": {
          "base_uri": "https://localhost:8080/"
        }
      },
      "source": [
        "lst1 = list(map(int,input().strip().split()))[:5] \n",
        "lst2 = list(map(int,input().strip().split()))[:5] \n",
        "arr1 = np.array(lst1)\n",
        "arr2 = np.array(lst2)\n",
        "print(lst1)\n",
        "print(lst2)\n",
        "print(arr1)\n",
        "print(arr2)\n",
        "arr = np.concatenate([arr1,arr2])\n",
        "print(arr)\n",
        "print(np.sort(arr))"
      ],
      "execution_count": 11,
      "outputs": [
        {
          "output_type": "stream",
          "text": [
            "1 23 6 8 4\n",
            "4 6 9 8 78\n",
            "[1, 23, 6, 8, 4]\n",
            "[4, 6, 9, 8, 78]\n",
            "[ 1 23  6  8  4]\n",
            "[ 4  6  9  8 78]\n",
            "[ 1 23  6  8  4  4  6  9  8 78]\n",
            "[ 1  4  4  6  6  8  8  9 23 78]\n"
          ],
          "name": "stdout"
        }
      ]
    },
    {
      "cell_type": "markdown",
      "metadata": {
        "id": "vA-EUEuvjLu9"
      },
      "source": [
        "3."
      ]
    },
    {
      "cell_type": "code",
      "metadata": {
        "id": "VNh3xjuPjMly",
        "outputId": "a053b8b6-1fa2-43f4-f735-413fcc0cf314",
        "colab": {
          "base_uri": "https://localhost:8080/"
        }
      },
      "source": [
        "arr = np.array( [[ 1, 2, 3],\n",
        "                 [ 4, 2, 5]] )\n",
        "print(\"Array is of type: \", type(arr))\n",
        "print(\"No. of dimensions: \", arr.ndim)\n",
        "print(\"Shape of array: \", arr.shape)\n",
        "print(\"Size of array: \", arr.size)"
      ],
      "execution_count": 12,
      "outputs": [
        {
          "output_type": "stream",
          "text": [
            "Array is of type:  <class 'numpy.ndarray'>\n",
            "No. of dimensions:  2\n",
            "Shape of array:  (2, 3)\n",
            "Size of array:  6\n"
          ],
          "name": "stdout"
        }
      ]
    },
    {
      "cell_type": "markdown",
      "metadata": {
        "id": "wdvDbPA5j-np"
      },
      "source": [
        "4."
      ]
    },
    {
      "cell_type": "code",
      "metadata": {
        "id": "CSU7aEoEj_jS",
        "outputId": "9161e5f4-446a-4b81-9015-ae1cc226a1ff",
        "colab": {
          "base_uri": "https://localhost:8080/"
        }
      },
      "source": [
        "x = np.array([5, 6, 7, 8, 9, 10])\n",
        "print(x)\n",
        "print(x.ndim)\n",
        "print(x.shape)\n",
        "\n",
        "#using np.newaxis\n",
        "y=np.array(x)[np.newaxis,:]\n",
        "print(y)\n",
        "print(y.ndim)\n",
        "print(y.shape)\n",
        "\n",
        "#using np.expand_dims\n",
        "z=np.expand_dims(x, axis=0)\n",
        "print(z)\n",
        "print(z.ndim)\n",
        "print(z.shape)\n",
        "\n",
        "#using np.reshape\n",
        "w=np.reshape(x,(2, 3))\n",
        "print(w)\n",
        "print(w.ndim)\n",
        "print(w.shape)"
      ],
      "execution_count": 19,
      "outputs": [
        {
          "output_type": "stream",
          "text": [
            "[ 5  6  7  8  9 10]\n",
            "1\n",
            "(6,)\n",
            "[[ 5  6  7  8  9 10]]\n",
            "2\n",
            "(1, 6)\n",
            "[[ 5  6  7  8  9 10]]\n",
            "2\n",
            "(1, 6)\n",
            "[[ 5  6  7]\n",
            " [ 8  9 10]]\n",
            "2\n",
            "(2, 3)\n"
          ],
          "name": "stdout"
        }
      ]
    },
    {
      "cell_type": "markdown",
      "metadata": {
        "id": "4ohG_sdbvG8j"
      },
      "source": [
        "5."
      ]
    },
    {
      "cell_type": "code",
      "metadata": {
        "id": "g6PLGobcvH45",
        "outputId": "51ddc4e5-c816-4e88-e2e9-ff20138481cc",
        "colab": {
          "base_uri": "https://localhost:8080/"
        }
      },
      "source": [
        "arr1=np.arange(9)\n",
        "arr1=np.reshape(arr1,(3,3))\n",
        "print(arr1)\n",
        "arr2=np.arange(10,19).reshape(3,3)\n",
        "print(arr2)\n",
        "v_arr=np.vstack((arr1,arr2))\n",
        "print(v_arr)\n",
        "h_arr=np.hstack((arr1,arr2))\n",
        "print(h_arr)"
      ],
      "execution_count": 22,
      "outputs": [
        {
          "output_type": "stream",
          "text": [
            "[[0 1 2]\n",
            " [3 4 5]\n",
            " [6 7 8]]\n",
            "[[10 11 12]\n",
            " [13 14 15]\n",
            " [16 17 18]]\n",
            "[[ 0  1  2]\n",
            " [ 3  4  5]\n",
            " [ 6  7  8]\n",
            " [10 11 12]\n",
            " [13 14 15]\n",
            " [16 17 18]]\n",
            "[[ 0  1  2 10 11 12]\n",
            " [ 3  4  5 13 14 15]\n",
            " [ 6  7  8 16 17 18]]\n"
          ],
          "name": "stdout"
        }
      ]
    },
    {
      "cell_type": "markdown",
      "metadata": {
        "id": "fYQlVyYo0yUk"
      },
      "source": [
        "6."
      ]
    },
    {
      "cell_type": "code",
      "metadata": {
        "id": "XB1zF9sg0zw4",
        "outputId": "2155a7e9-7d17-45e6-9492-a48014163dd2",
        "colab": {
          "base_uri": "https://localhost:8080/"
        }
      },
      "source": [
        "array=np.array([0, 1, 3, 4, 1, 2, 3, 0, 1, 4, 3, 2, 0, 2, 1])\n",
        "(unique, count) = np.unique(array, return_counts=True)\n",
        "frequencies = np.asarray((unique, count)).T #.T is used to take the transpose of matrix\n",
        "print(frequencies)"
      ],
      "execution_count": 27,
      "outputs": [
        {
          "output_type": "stream",
          "text": [
            "[[0 3]\n",
            " [1 4]\n",
            " [2 3]\n",
            " [3 3]\n",
            " [4 2]]\n"
          ],
          "name": "stdout"
        }
      ]
    }
  ]
}